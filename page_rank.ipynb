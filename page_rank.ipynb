{
 "cells": [
  {
   "cell_type": "markdown",
   "metadata": {},
   "source": [
    "## Solving Page Rank Problem"
   ]
  },
  {
   "cell_type": "code",
   "execution_count": 1,
   "metadata": {},
   "outputs": [],
   "source": [
    "import numpy as np\n",
    "import matplotlib.pyplot as plt\n",
    "import pandas as pd\n",
    "import time\n",
    "from sklearn.linear_model import LinearRegression\n",
    "import scipy\n",
    "import time\n",
    "import re\n",
    "from scipy.interpolate import make_interp_spline"
   ]
  },
  {
   "cell_type": "code",
   "execution_count": 3,
   "metadata": {},
   "outputs": [],
   "source": [
    "A_ = pd.read_csv(\"./ucd/A.txt\", header=None)\n",
    "A = A_.transpose()\n",
    "U = pd.read_csv(\"./ucd/U.txt\", header=None)\n",
    "row2del = [1, 68, 149, 323] # there are a few links that are incorrect links\n",
    "A = A.drop(row2del, axis = 0)\n",
    "A = A.drop(row2del, axis = 1)\n",
    "U = U.drop(row2del)"
   ]
  },
  {
   "cell_type": "markdown",
   "metadata": {},
   "source": [
    "Function that calculate the page rank matrix"
   ]
  },
  {
   "cell_type": "code",
   "execution_count": 4,
   "metadata": {},
   "outputs": [],
   "source": [
    "# the function to calculate the page rank matrix\n",
    "def pagerank(A, p = 0.85): \n",
    "\n",
    "    n = A.shape[0] # obtain the number of pages \n",
    "    \n",
    "    row_sum = np.asarray(np.sum(A, axis=1)).reshape(n) # obtain the number of nodes\n",
    "\n",
    "    r_i = [] # obtain the out-degree for each page using for loop\n",
    "\n",
    "    for i in row_sum:\n",
    "        if i != 0:\n",
    "            r_i.append(p/i) \n",
    "        else:\n",
    "            r_i.append(0)\n",
    "   \n",
    "    r_i_matrix = np.diag(r_i) # convert the vector to diagnol matrix\n",
    "\n",
    "    D = r_i_matrix @ A # calculate the density matrix\n",
    "    \n",
    "    z = [] # obtain the z vector based on out-degree\n",
    "    for i in row_sum:\n",
    "        if i != 0:\n",
    "            z.append([(1-p)/n])\n",
    "        else:\n",
    "            z.append([1/n])\n",
    "    p = D + np.outer(z,np.ones(n)) # calculate the pagerank matrix\n",
    "\n",
    "    return p"
   ]
  },
  {
   "cell_type": "code",
   "execution_count": 7,
   "metadata": {},
   "outputs": [],
   "source": [
    "s_A = scipy.sparse.csr_matrix(A)\n",
    "pr = pagerank(s_A)"
   ]
  },
  {
   "cell_type": "markdown",
   "metadata": {},
   "source": [
    "SVD method"
   ]
  },
  {
   "cell_type": "code",
   "execution_count": 9,
   "metadata": {},
   "outputs": [],
   "source": [
    "def solve_pr_svd(pr): # solving the page rank problem using SVD method.\n",
    "    n = pr.shape[0] # the number of pages \n",
    "    r = np.linalg.matrix_rank(pr)\n",
    "    R_Y = np.zeros(n) \n",
    "    R_Y[0] = 1\n",
    "    P_t = pr.transpose()\n",
    "       \n",
    "    L_P = np.identity(n) - P_t\n",
    "    \n",
    "    replace = np.ones(n)\n",
    "    \n",
    "    L_P[0,:] = replace\n",
    "    \n",
    "    U,s,V=np.linalg.svd(L_P) # obtain the SVD decomposition of L_P\n",
    "\n",
    "    # solving Ax=b using the equation above\n",
    "    c = np.dot(U.T, R_Y) # c = U^t*b\n",
    "    w = np.linalg.solve(np.diag(s),c) # w = V^t*c\n",
    "    x = np.dot(V.T,w) # x = V*w\n",
    "    \n",
    "    return x"
   ]
  },
  {
   "cell_type": "code",
   "execution_count": 10,
   "metadata": {},
   "outputs": [
    {
     "name": "stdout",
     "output_type": "stream",
     "text": [
      "The time used is 0.06407046318054199\n",
      "[0.02547476 0.02404957 0.02238444 0.01145635 0.01111901 0.01059859\n",
      " 0.00937884 0.00865389 0.00864015 0.00797338 0.00725695 0.00698429\n",
      " 0.00698318 0.00695704 0.00695194 0.00695194 0.00695194 0.00695194\n",
      " 0.00695194 0.00695194]\n"
     ]
    }
   ],
   "source": [
    "t = time.time()\n",
    "x_d = solve_pr_svd(pr)\n",
    "s_x_d = np.sort(x_d)[::-1]\n",
    "print(\"The time used is\", time.time()-t)\n",
    "print(s_x_d[:20])"
   ]
  },
  {
   "cell_type": "markdown",
   "metadata": {},
   "source": [
    "Power method"
   ]
  },
  {
   "cell_type": "code",
   "execution_count": 332,
   "metadata": {},
   "outputs": [],
   "source": [
    "def solve_pr_power(pr, max_iter = 1000): # solving the page rank problem using SVD method.\n",
    "    n = pr.shape[0] # the number of pages \n",
    "    x = np.ones(n)\n",
    "    x_pre = np.zeros(n)\n",
    "    \n",
    "    for i in range(max_iter):\n",
    "        \n",
    "        # caculate x\n",
    "        x_new = np.absolute(np.dot(pr, x))\n",
    "        \n",
    "        # normalize x\n",
    "        x = x_new / np.linalg.norm(x_new)\n",
    "        \n",
    "        if x_pre[n-1] == x [n-1]: # break the loop if it converges\n",
    "            c_i = i+1\n",
    "            print(\"The algorithm converges after \"+ str(c_i) +\" iterations.\")\n",
    "            break\n",
    "        else:\n",
    "            x_pre = x\n",
    "            \n",
    "    x /= np.sum(x)\n",
    "    return x"
   ]
  },
  {
   "cell_type": "code",
   "execution_count": 333,
   "metadata": {},
   "outputs": [
    {
     "name": "stdout",
     "output_type": "stream",
     "text": [
      "The algorithm converges after 179 iterations.\n",
      "The time used is 0.014404296875\n",
      "[0.02547476 0.02404957 0.02238444 0.01145635 0.01111901 0.01059859\n",
      " 0.00937884 0.00865389 0.00864015 0.00797338 0.00725695 0.00698429\n",
      " 0.00698318 0.00695704 0.00695194 0.00695194 0.00695194 0.00695194\n",
      " 0.00695194 0.00695194]\n"
     ]
    }
   ],
   "source": [
    "t = time.time()\n",
    "x_power = solve_pr_power(pr.T)\n",
    "s_x_p = np.sort(x_power)[::-1]\n",
    "print(\"The time used is\", time.time()-t)\n",
    "print(s_x_p[:20])"
   ]
  },
  {
   "cell_type": "code",
   "execution_count": 335,
   "metadata": {},
   "outputs": [
    {
     "data": {
      "text/html": [
       "<div>\n",
       "<style scoped>\n",
       "    .dataframe tbody tr th:only-of-type {\n",
       "        vertical-align: middle;\n",
       "    }\n",
       "\n",
       "    .dataframe tbody tr th {\n",
       "        vertical-align: top;\n",
       "    }\n",
       "\n",
       "    .dataframe thead th {\n",
       "        text-align: right;\n",
       "    }\n",
       "</style>\n",
       "<table border=\"1\" class=\"dataframe\">\n",
       "  <thead>\n",
       "    <tr style=\"text-align: right;\">\n",
       "      <th></th>\n",
       "      <th>0</th>\n",
       "    </tr>\n",
       "  </thead>\n",
       "  <tbody>\n",
       "    <tr>\n",
       "      <th>23</th>\n",
       "      <td>http://ucdavis.edu/help/privacy-accessibility....</td>\n",
       "    </tr>\n",
       "    <tr>\n",
       "      <th>368</th>\n",
       "      <td>http://xmlns.com/foaf/0.1</td>\n",
       "    </tr>\n",
       "    <tr>\n",
       "      <th>24</th>\n",
       "      <td>http://www.universityofcalifornia.edu</td>\n",
       "    </tr>\n",
       "    <tr>\n",
       "      <th>109</th>\n",
       "      <td>http://browsehappy.com</td>\n",
       "    </tr>\n",
       "    <tr>\n",
       "      <th>303</th>\n",
       "      <td>http://creativecommons.org/ns#</td>\n",
       "    </tr>\n",
       "    <tr>\n",
       "      <th>447</th>\n",
       "      <td>http://disabilities.ucsd.edu</td>\n",
       "    </tr>\n",
       "    <tr>\n",
       "      <th>45</th>\n",
       "      <td>http://b</td>\n",
       "    </tr>\n",
       "    <tr>\n",
       "      <th>318</th>\n",
       "      <td>http:\\/\\/schema.org</td>\n",
       "    </tr>\n",
       "    <tr>\n",
       "      <th>419</th>\n",
       "      <td>http://students.ucsd.edu</td>\n",
       "    </tr>\n",
       "    <tr>\n",
       "      <th>107</th>\n",
       "      <td>http://drupal.org)</td>\n",
       "    </tr>\n",
       "    <tr>\n",
       "      <th>116</th>\n",
       "      <td>http://www.ucla.edu</td>\n",
       "    </tr>\n",
       "    <tr>\n",
       "      <th>255</th>\n",
       "      <td>http://schema.org</td>\n",
       "    </tr>\n",
       "    <tr>\n",
       "      <th>115</th>\n",
       "      <td>http://www.berkeley.edu</td>\n",
       "    </tr>\n",
       "    <tr>\n",
       "      <th>42</th>\n",
       "      <td>http://www.ucdavis.edu</td>\n",
       "    </tr>\n",
       "    <tr>\n",
       "      <th>239</th>\n",
       "      <td>http://ucd.alumniplans.com</td>\n",
       "    </tr>\n",
       "    <tr>\n",
       "      <th>240</th>\n",
       "      <td>http://ucd.alumniplans.com/life-insurance/grou...</td>\n",
       "    </tr>\n",
       "    <tr>\n",
       "      <th>241</th>\n",
       "      <td>http://ucd.alumniplans.com/personal-insurance....</td>\n",
       "    </tr>\n",
       "    <tr>\n",
       "      <th>242</th>\n",
       "      <td>http://ucd.alumniplans.com/personal-insurance/...</td>\n",
       "    </tr>\n",
       "    <tr>\n",
       "      <th>243</th>\n",
       "      <td>http://ucd.alumniplans.com/personal-insurance/...</td>\n",
       "    </tr>\n",
       "    <tr>\n",
       "      <th>244</th>\n",
       "      <td>http://ucd.alumniplans.com/personal-insurance/...</td>\n",
       "    </tr>\n",
       "  </tbody>\n",
       "</table>\n",
       "</div>"
      ],
      "text/plain": [
       "                                                     0\n",
       "23   http://ucdavis.edu/help/privacy-accessibility....\n",
       "368                          http://xmlns.com/foaf/0.1\n",
       "24               http://www.universityofcalifornia.edu\n",
       "109                             http://browsehappy.com\n",
       "303                     http://creativecommons.org/ns#\n",
       "447                       http://disabilities.ucsd.edu\n",
       "45                                            http://b\n",
       "318                                http:\\/\\/schema.org\n",
       "419                           http://students.ucsd.edu\n",
       "107                                 http://drupal.org)\n",
       "116                                http://www.ucla.edu\n",
       "255                                  http://schema.org\n",
       "115                            http://www.berkeley.edu\n",
       "42                              http://www.ucdavis.edu\n",
       "239                         http://ucd.alumniplans.com\n",
       "240  http://ucd.alumniplans.com/life-insurance/grou...\n",
       "241  http://ucd.alumniplans.com/personal-insurance....\n",
       "242  http://ucd.alumniplans.com/personal-insurance/...\n",
       "243  http://ucd.alumniplans.com/personal-insurance/...\n",
       "244  http://ucd.alumniplans.com/personal-insurance/..."
      ]
     },
     "execution_count": 335,
     "metadata": {},
     "output_type": "execute_result"
    }
   ],
   "source": [
    "top20 = []\n",
    "for i in range(20):\n",
    "    index = np.where(x_power == s_x_p[i])\n",
    "    for j in range(len(index[0])):\n",
    "        top20.append(index[0][j])\n",
    "        \n",
    "U.iloc[top20[:20]]"
   ]
  }
 ],
 "metadata": {
  "kernelspec": {
   "display_name": "Python 3",
   "language": "python",
   "name": "python3"
  },
  "language_info": {
   "codemirror_mode": {
    "name": "ipython",
    "version": 3
   },
   "file_extension": ".py",
   "mimetype": "text/x-python",
   "name": "python",
   "nbconvert_exporter": "python",
   "pygments_lexer": "ipython3",
   "version": "3.8.5"
  }
 },
 "nbformat": 4,
 "nbformat_minor": 4
}